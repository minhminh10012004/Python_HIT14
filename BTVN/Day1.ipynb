{
  "nbformat": 4,
  "nbformat_minor": 0,
  "metadata": {
    "colab": {
      "provenance": []
    },
    "kernelspec": {
      "name": "python3",
      "display_name": "Python 3"
    },
    "language_info": {
      "name": "python"
    }
  },
  "cells": [
    {
      "cell_type": "code",
      "execution_count": 1,
      "metadata": {
        "id": "8U7zuL22ou8U",
        "colab": {
          "base_uri": "https://localhost:8080/",
          "height": 106
        },
        "outputId": "2ab0ca8a-5176-43ce-d86e-885e49003c76"
      },
      "outputs": [
        {
          "output_type": "error",
          "ename": "SyntaxError",
          "evalue": "invalid syntax (<ipython-input-1-18b59eebf740>, line 1)",
          "traceback": [
            "\u001b[0;36m  File \u001b[0;32m\"<ipython-input-1-18b59eebf740>\"\u001b[0;36m, line \u001b[0;32m1\u001b[0m\n\u001b[0;31m    Câu 1 :\u001b[0m\n\u001b[0m        ^\u001b[0m\n\u001b[0;31mSyntaxError\u001b[0m\u001b[0;31m:\u001b[0m invalid syntax\n"
          ]
        }
      ],
      "source": [
        "Câu 1 :\n",
        "Python có thể dùng để lập trình web, phân tích dữ liệu, trí tuệ nhân tạo, tự động hóa công việc, phát triển game, và lập trình nhúng (IoT).\n"
      ]
    },
    {
      "cell_type": "code",
      "source": [
        "Câu 2: So sánh Python và C++\n",
        "\n",
        "Cú pháp: Python dễ đọc, dễ viết hơn C++.\n",
        "Tốc độ: Python chạy chậm hơn C++ vì là ngôn ngữ thông dịch.\n",
        "Quản lý bộ nhớ: Python tự động, C++ cần quản lý thủ công.\n",
        "Ứng dụng: Python phổ biến trong AI, web, dữ liệu; C++ dùng nhiều cho game, phần mềm hiệu suất cao.\n",
        "Kiểu dữ liệu: Python kiểu động, C++ kiểu tĩnh."
      ],
      "metadata": {
        "id": "1NhQcUnUqAVl"
      },
      "execution_count": null,
      "outputs": []
    },
    {
      "cell_type": "code",
      "source": [
        "Câu 3: Python là ngôn ngữ biên dịch hay thông dịch?\n",
        "Python là ngôn ngữ thông dịch, nghĩa là mã được chạy trực tiếp từng dòng qua trình thông dịch, không biên dịch trước như C++."
      ],
      "metadata": {
        "id": "5gkHwLBHp3mz"
      },
      "execution_count": null,
      "outputs": []
    },
    {
      "cell_type": "code",
      "source": [
        "Câu 5:\n",
        "\n"
      ],
      "metadata": {
        "id": "Q6agaldZp4wO"
      },
      "execution_count": null,
      "outputs": []
    },
    {
      "cell_type": "code",
      "source": [
        "#Khai báo biến\n",
        "#Trong Python, không cần chỉ định kiểu dữ liệu khi khai báo biến, chỉ cần gán giá trị cho biến là được\n",
        "\n",
        "x=5;\n",
        "name = \"Minh\"\n",
        "print(name)\n",
        "print(x)"
      ],
      "metadata": {
        "colab": {
          "base_uri": "https://localhost:8080/"
        },
        "id": "gScHH8TmrAWg",
        "outputId": "985f48f3-9abf-45fb-c624-9d618dd406cf"
      },
      "execution_count": 6,
      "outputs": [
        {
          "output_type": "stream",
          "name": "stdout",
          "text": [
            "Minh\n",
            "5\n"
          ]
        }
      ]
    },
    {
      "cell_type": "code",
      "source": [
        "#Các toán tử\n",
        "#Toán tử số học: +, -, *, /, %, ** (lũy thừa)\n",
        "#Toán tử so sánh: ==, !=, >, <, >=, <=\n",
        "#Toán tử logic: and, or, not\n",
        "\n",
        "a= 10\n",
        "b = 2\n",
        "print(a * b)"
      ],
      "metadata": {
        "colab": {
          "base_uri": "https://localhost:8080/"
        },
        "id": "SYZRS491rcif",
        "outputId": "d63dd1c7-6a38-48d7-c0e7-4817a43884ea"
      },
      "execution_count": 7,
      "outputs": [
        {
          "output_type": "stream",
          "name": "stdout",
          "text": [
            "20\n"
          ]
        }
      ]
    },
    {
      "cell_type": "code",
      "source": [
        "#Các kiểu dữ liệu trong Python:\n",
        "\n",
        "#int: Số nguyên (ví dụ: 5, -10)\n",
        "#float: Số thực (ví dụ: 3.14, -2.5)\n",
        "#str: Chuỗi ký tự (ví dụ: \"Hello\")\n",
        "#bool: Boolean (True hoặc False)\n",
        "\n",
        "x=5\n",
        "print(type(x))"
      ],
      "metadata": {
        "colab": {
          "base_uri": "https://localhost:8080/"
        },
        "id": "hAQjRpAdr3f1",
        "outputId": "a5b3ccbd-eb19-4d9c-b89d-a49463f74c42"
      },
      "execution_count": 8,
      "outputs": [
        {
          "output_type": "stream",
          "name": "stdout",
          "text": [
            "<class 'int'>\n"
          ]
        }
      ]
    }
  ]
}