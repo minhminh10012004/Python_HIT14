{
  "cells": [
    {
      "cell_type": "code",
      "execution_count": null,
      "metadata": {
        "id": "rpHywjO-uVxj"
      },
      "outputs": [],
      "source": [
        "#Bài 1\n",
        "#Hàm tính giai thừa\n",
        "def tinh_gia_thua(n):\n",
        "  ket_qua=1\n",
        "  for i in range (1,n+1):\n",
        "    ket_qua *=i\n",
        "  return ket_qua\n"
      ]
    },
    {
      "cell_type": "code",
      "execution_count": null,
      "metadata": {
        "id": "j62-HqIzv5Iq"
      },
      "outputs": [],
      "source": [
        "#Hàm tính xấp xỉ e mũ x\n",
        "def  tinh_xap_xi(x,n):\n",
        "  e_mu_x=1\n",
        "  for i in range (1,n +1):\n",
        "    e_mu_x += (x**i)/tinh_gia_thua(i)\n",
        "  return e_mu_x"
      ]
    },
    {
      "cell_type": "code",
      "execution_count": null,
      "metadata": {
        "id": "wAGoSGLRyF9f"
      },
      "outputs": [],
      "source": [
        "#Bài 2\n",
        "def tinh_bieu_thuc(n):\n",
        "  S=1\n",
        "  for i in range (2 , n+1):\n",
        "    S += 1/tinh_gia_thua(i)\n",
        "  return S"
      ]
    },
    {
      "cell_type": "code",
      "execution_count": null,
      "metadata": {
        "colab": {
          "base_uri": "https://localhost:8080/"
        },
        "id": "E3Yo0ZBHwHYP",
        "outputId": "495ef827-e3b0-4528-f1a5-3afed03bfe78"
      },
      "outputs": [],
      "source": [
        "x=int(input(\"Nhập giá trị x= \"))\n",
        "n=int(input(\"Nhập giá trị n= \"))\n",
        "ket_qua = tinh_xap_xi(x,n)\n",
        "tong_bieu_thuc = tinh_bieu_thuc(n)\n",
        "print(f\"Giá trị xấp xỉ của e^{x} là : {ket_qua}\")\n",
        "print(f\"Tổng của biểu thức S là : {tong_bieu_thuc}\")"
      ]
    },
    {
      "cell_type": "code",
      "execution_count": null,
      "metadata": {
        "id": "d4KgGXRs09T1"
      },
      "outputs": [],
      "source": [
        "#Bài 2 :\n",
        "#Hiểu đề bài : Các số có số ước lẻ chính là số chính phương => đếm các số chính phương trong khoảng 2-> n-1\n",
        "import math\n",
        "def dem_so_uoc_le(n):\n",
        "  if n < 2:\n",
        "    return 0\n",
        "  so_chinh_phuong = int(math.sqrt(n-1)) # # Số chính phương lớn nhất không vượt quá n-1\n",
        "  return so_chinh_phuong - 1 #trừ 1 vì đề yêu cầu không tính số 1"
      ]
    },
    {
      "cell_type": "code",
      "execution_count": null,
      "metadata": {
        "colab": {
          "base_uri": "https://localhost:8080/"
        },
        "id": "6rli3yjI2Rtx",
        "outputId": "353fdb87-313c-4d7e-feba-3139bbde51c3"
      },
      "outputs": [],
      "source": [
        "n=int(input(\"Nhập số nguyên n :\"))\n",
        "kq=dem_so_uoc_le(n)\n",
        "print(f\"Số lượng số có ước lẻ trong khoảng (1,{n}) là : {kq}\")"
      ]
    },
    {
      "cell_type": "code",
      "execution_count": null,
      "metadata": {
        "id": "oUTJJLZs4mk7"
      },
      "outputs": [],
      "source": [
        "#Bài 3 :\n",
        "def xep_loai(tong):\n",
        "  return \"Xuất sắc\" if tong>=190 else \"Giỏi\" if tong>=150 else \"Khá\" if tong>=100 else \"Yếu\"\n"
      ]
    },
    {
      "cell_type": "code",
      "execution_count": null,
      "metadata": {
        "id": "x75p8ToY5Rht"
      },
      "outputs": [],
      "source": [
        "def main():\n",
        "    n = int(input())  # Nhập số lượng học sinh\n",
        "    danh_sach_hoc_sinh = []  # Tạo danh sách để lưu trữ thông tin học sinh\n",
        "\n",
        "    for _ in range(n):  # Sử dụng range(n) để lặp đúng số lần\n",
        "        ten = input()\n",
        "        diem1, diem2 = map(int, input().split())\n",
        "        while diem1 < 0 or diem1 > 100 or diem2 < 0 or diem2 > 100:\n",
        "            diem1, diem2 = map(int, input(\"Điểm không hợp lệ !Hãy nhập lại :\").split())\n",
        "        danh_sach_hoc_sinh.append((ten, diem1 + diem2))  # Lưu tên và tổng điểm vào danh sách\n",
        "\n",
        "    # In kết quả sau khi đã nhập thông tin của tất cả học sinh\n",
        "    print(\"---------------------\")\n",
        "    for i, (ten, tong) in enumerate(danh_sach_hoc_sinh):\n",
        "      print(f\"{i + 1} {ten} {tong} {xep_loai(tong)}\")\n",
        "\n",
        "\n"
      ]
    },
    {
      "cell_type": "code",
      "execution_count": null,
      "metadata": {
        "colab": {
          "base_uri": "https://localhost:8080/"
        },
        "id": "2MmaotjY6O4S",
        "outputId": "7a0fb42c-f4f4-4e7d-9ca7-042257821fb7"
      },
      "outputs": [],
      "source": [
        "if __name__ == \"__main__\":\n",
        " main()"
      ]
    },
    {
      "cell_type": "code",
      "execution_count": null,
      "metadata": {
        "colab": {
          "base_uri": "https://localhost:8080/"
        },
        "id": "xTkPnukV75I1",
        "outputId": "2a4e705e-efe1-4fc3-c35c-ce8fc06df13b"
      },
      "outputs": [],
      "source": [
        "string = input(\"Nhập chuỗi : \")\n",
        "def check(string):\n",
        "  if string.find(\"@\")<=0 or string.find(\".\")==-1:\n",
        "    return False\n",
        "  return True if string.find(\"@\")<string.find(\".\")-1 else False\n",
        "check(string)\n",
        "\n"
      ]
    }
  ],
  "metadata": {
    "colab": {
      "provenance": []
    },
    "kernelspec": {
      "display_name": "Python 3",
      "name": "python3"
    },
    "language_info": {
      "name": "python"
    }
  },
  "nbformat": 4,
  "nbformat_minor": 0
}
